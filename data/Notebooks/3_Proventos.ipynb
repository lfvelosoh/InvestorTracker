{
 "cells": [
  {
   "cell_type": "markdown",
   "metadata": {},
   "source": [
    "## Imports & Defs"
   ]
  },
  {
   "cell_type": "code",
   "execution_count": 21,
   "metadata": {},
   "outputs": [],
   "source": [
    "import pandas as pd\n",
    "from unidecode import unidecode\n",
    "import glob\n",
    "import os\n",
    "import re"
   ]
  },
  {
   "cell_type": "code",
   "execution_count": 22,
   "metadata": {},
   "outputs": [],
   "source": [
    "#path dos arquivos xlsx\n",
    "pasta = \"./relatorios_mensais/\"\n",
    "aba = \"Proventos Recebidos\""
   ]
  },
  {
   "cell_type": "code",
   "execution_count": 23,
   "metadata": {},
   "outputs": [
    {
     "name": "stderr",
     "output_type": "stream",
     "text": [
      "c:\\Users\\lfvel\\OneDrive\\Projects\\IRRF_B3\\.venv\\Lib\\site-packages\\openpyxl\\styles\\stylesheet.py:226: UserWarning: Workbook contains no default style, apply openpyxl's default\n",
      "  warn(\"Workbook contains no default style, apply openpyxl's default\")\n",
      "c:\\Users\\lfvel\\OneDrive\\Projects\\IRRF_B3\\.venv\\Lib\\site-packages\\openpyxl\\styles\\stylesheet.py:226: UserWarning: Workbook contains no default style, apply openpyxl's default\n",
      "  warn(\"Workbook contains no default style, apply openpyxl's default\")\n",
      "c:\\Users\\lfvel\\OneDrive\\Projects\\IRRF_B3\\.venv\\Lib\\site-packages\\openpyxl\\styles\\stylesheet.py:226: UserWarning: Workbook contains no default style, apply openpyxl's default\n",
      "  warn(\"Workbook contains no default style, apply openpyxl's default\")\n",
      "c:\\Users\\lfvel\\OneDrive\\Projects\\IRRF_B3\\.venv\\Lib\\site-packages\\openpyxl\\styles\\stylesheet.py:226: UserWarning: Workbook contains no default style, apply openpyxl's default\n",
      "  warn(\"Workbook contains no default style, apply openpyxl's default\")\n",
      "c:\\Users\\lfvel\\OneDrive\\Projects\\IRRF_B3\\.venv\\Lib\\site-packages\\openpyxl\\styles\\stylesheet.py:226: UserWarning: Workbook contains no default style, apply openpyxl's default\n",
      "  warn(\"Workbook contains no default style, apply openpyxl's default\")\n",
      "c:\\Users\\lfvel\\OneDrive\\Projects\\IRRF_B3\\.venv\\Lib\\site-packages\\openpyxl\\styles\\stylesheet.py:226: UserWarning: Workbook contains no default style, apply openpyxl's default\n",
      "  warn(\"Workbook contains no default style, apply openpyxl's default\")\n",
      "c:\\Users\\lfvel\\OneDrive\\Projects\\IRRF_B3\\.venv\\Lib\\site-packages\\openpyxl\\styles\\stylesheet.py:226: UserWarning: Workbook contains no default style, apply openpyxl's default\n",
      "  warn(\"Workbook contains no default style, apply openpyxl's default\")\n",
      "c:\\Users\\lfvel\\OneDrive\\Projects\\IRRF_B3\\.venv\\Lib\\site-packages\\openpyxl\\styles\\stylesheet.py:226: UserWarning: Workbook contains no default style, apply openpyxl's default\n",
      "  warn(\"Workbook contains no default style, apply openpyxl's default\")\n",
      "c:\\Users\\lfvel\\OneDrive\\Projects\\IRRF_B3\\.venv\\Lib\\site-packages\\openpyxl\\styles\\stylesheet.py:226: UserWarning: Workbook contains no default style, apply openpyxl's default\n",
      "  warn(\"Workbook contains no default style, apply openpyxl's default\")\n",
      "c:\\Users\\lfvel\\OneDrive\\Projects\\IRRF_B3\\.venv\\Lib\\site-packages\\openpyxl\\styles\\stylesheet.py:226: UserWarning: Workbook contains no default style, apply openpyxl's default\n",
      "  warn(\"Workbook contains no default style, apply openpyxl's default\")\n",
      "c:\\Users\\lfvel\\OneDrive\\Projects\\IRRF_B3\\.venv\\Lib\\site-packages\\openpyxl\\styles\\stylesheet.py:226: UserWarning: Workbook contains no default style, apply openpyxl's default\n",
      "  warn(\"Workbook contains no default style, apply openpyxl's default\")\n",
      "c:\\Users\\lfvel\\OneDrive\\Projects\\IRRF_B3\\.venv\\Lib\\site-packages\\openpyxl\\styles\\stylesheet.py:226: UserWarning: Workbook contains no default style, apply openpyxl's default\n",
      "  warn(\"Workbook contains no default style, apply openpyxl's default\")\n",
      "c:\\Users\\lfvel\\OneDrive\\Projects\\IRRF_B3\\.venv\\Lib\\site-packages\\openpyxl\\styles\\stylesheet.py:226: UserWarning: Workbook contains no default style, apply openpyxl's default\n",
      "  warn(\"Workbook contains no default style, apply openpyxl's default\")\n",
      "c:\\Users\\lfvel\\OneDrive\\Projects\\IRRF_B3\\.venv\\Lib\\site-packages\\openpyxl\\styles\\stylesheet.py:226: UserWarning: Workbook contains no default style, apply openpyxl's default\n",
      "  warn(\"Workbook contains no default style, apply openpyxl's default\")\n",
      "c:\\Users\\lfvel\\OneDrive\\Projects\\IRRF_B3\\.venv\\Lib\\site-packages\\openpyxl\\styles\\stylesheet.py:226: UserWarning: Workbook contains no default style, apply openpyxl's default\n",
      "  warn(\"Workbook contains no default style, apply openpyxl's default\")\n",
      "c:\\Users\\lfvel\\OneDrive\\Projects\\IRRF_B3\\.venv\\Lib\\site-packages\\openpyxl\\styles\\stylesheet.py:226: UserWarning: Workbook contains no default style, apply openpyxl's default\n",
      "  warn(\"Workbook contains no default style, apply openpyxl's default\")\n",
      "c:\\Users\\lfvel\\OneDrive\\Projects\\IRRF_B3\\.venv\\Lib\\site-packages\\openpyxl\\styles\\stylesheet.py:226: UserWarning: Workbook contains no default style, apply openpyxl's default\n",
      "  warn(\"Workbook contains no default style, apply openpyxl's default\")\n",
      "c:\\Users\\lfvel\\OneDrive\\Projects\\IRRF_B3\\.venv\\Lib\\site-packages\\openpyxl\\styles\\stylesheet.py:226: UserWarning: Workbook contains no default style, apply openpyxl's default\n",
      "  warn(\"Workbook contains no default style, apply openpyxl's default\")\n",
      "c:\\Users\\lfvel\\OneDrive\\Projects\\IRRF_B3\\.venv\\Lib\\site-packages\\openpyxl\\styles\\stylesheet.py:226: UserWarning: Workbook contains no default style, apply openpyxl's default\n",
      "  warn(\"Workbook contains no default style, apply openpyxl's default\")\n",
      "c:\\Users\\lfvel\\OneDrive\\Projects\\IRRF_B3\\.venv\\Lib\\site-packages\\openpyxl\\styles\\stylesheet.py:226: UserWarning: Workbook contains no default style, apply openpyxl's default\n",
      "  warn(\"Workbook contains no default style, apply openpyxl's default\")\n",
      "c:\\Users\\lfvel\\OneDrive\\Projects\\IRRF_B3\\.venv\\Lib\\site-packages\\openpyxl\\styles\\stylesheet.py:226: UserWarning: Workbook contains no default style, apply openpyxl's default\n",
      "  warn(\"Workbook contains no default style, apply openpyxl's default\")\n"
     ]
    },
    {
     "name": "stdout",
     "output_type": "stream",
     "text": [
      "Proventos salvos em ./resultados/proventos.csv\n"
     ]
    },
    {
     "name": "stderr",
     "output_type": "stream",
     "text": [
      "c:\\Users\\lfvel\\OneDrive\\Projects\\IRRF_B3\\.venv\\Lib\\site-packages\\openpyxl\\styles\\stylesheet.py:226: UserWarning: Workbook contains no default style, apply openpyxl's default\n",
      "  warn(\"Workbook contains no default style, apply openpyxl's default\")\n",
      "C:\\Users\\lfvel\\AppData\\Local\\Temp\\ipykernel_3676\\2050347132.py:26: UserWarning: Parsing dates in %d/%m/%Y format when dayfirst=False (the default) was specified. Pass `dayfirst=True` or specify a format to silence this warning.\n",
      "  proventos[\"Pagamento\"] = pd.to_datetime(proventos[\"Pagamento\"])\n"
     ]
    }
   ],
   "source": [
    "\n",
    "# Criar um DataFrame vazio\n",
    "proventos = pd.DataFrame()\n",
    "\n",
    "# Criar uma lista de arquivos\n",
    "arquivos = glob.glob(os.path.join(pasta, \"*.xlsx\"))\n",
    "\n",
    "# Percorrer todos os arquivos na lista\n",
    "for arquivo in arquivos:\n",
    "    if aba in pd.ExcelFile(arquivo).sheet_names:\n",
    "\n",
    "        # Ler o arquivo\n",
    "        proventos_temp = pd.read_excel(arquivo, sheet_name=aba, dtype={\n",
    "            'Produto': str,\n",
    "            'Tipo de Evento': str,\n",
    "            'Instituição': str,\n",
    "            'Administrador': str,\n",
    "            })\n",
    "\n",
    "        # Concatenar o DataFrame temporário ao DataFrame principal\n",
    "        proventos = pd.concat([proventos, proventos_temp], ignore_index = True)     \n",
    "\n",
    "proventos.rename(columns={'Produto': 'codigo'}, inplace=True)\n",
    "\n",
    "idx = proventos[proventos['codigo'].isna()].index #mostra quais linhas possuem dados NA\n",
    "proventos.drop(idx, inplace=True) #apaga estas linhas\n",
    "proventos[\"Pagamento\"] = pd.to_datetime(proventos[\"Pagamento\"])\n",
    "\n",
    "proventos[\"codigo\"]=proventos[\"codigo\"].str.replace(\" \",\"\")\n",
    "posicao = proventos[\"codigo\"].str.find(\"-\")\n",
    "proventos[\"codigo\"] = proventos[\"codigo\"].str.slice(0,6)\n",
    "proventos[\"codigo\"]=proventos[\"codigo\"].str.replace(\"-\",\"\")\n",
    "proventos = proventos.dropna()\n",
    "\n",
    "col_floats = list(proventos.iloc[:,4:].columns) #Seleciona da terceira até a penultima linha \n",
    "proventos[col_floats] = proventos[col_floats].fillna(value=0) #substitui os dados NA por zero\n",
    "proventos[col_floats] #valida se existe ainda dados nulos\n",
    "proventos[col_floats] = proventos[col_floats].astype('float') #define as colunas como float\n",
    "\n",
    "proventos.columns = [unidecode(col) for col in proventos.columns]\n",
    "proventos.columns = [col.lower().replace(' ', '_') for col in proventos.columns]\n",
    "\n",
    "\n",
    "def substituir_codigo(codigo):\n",
    "    match = re.search(r'\\d{2}$', codigo)\n",
    "    if match:\n",
    "        ultimo_numero = int(match.group())\n",
    "        if ultimo_numero in [12, 13, 14]:\n",
    "            codigo = codigo[:-2] + '11'\n",
    "    return codigo\n",
    "\n",
    "proventos['codigo'] = proventos['codigo'].apply(substituir_codigo)\n",
    "\n",
    "proventos['codigo'] = proventos['codigo'].apply(substituir_codigo)\n",
    "\n",
    "proventos.to_csv('./resultados/proventos.csv', index=False)\n",
    "\n",
    "print(\"Proventos salvos em ./resultados/proventos.csv\")\n"
   ]
  }
 ],
 "metadata": {
  "kernelspec": {
   "display_name": ".venv",
   "language": "python",
   "name": "python3"
  },
  "language_info": {
   "codemirror_mode": {
    "name": "ipython",
    "version": 3
   },
   "file_extension": ".py",
   "mimetype": "text/x-python",
   "name": "python",
   "nbconvert_exporter": "python",
   "pygments_lexer": "ipython3",
   "version": "3.12.0"
  }
 },
 "nbformat": 4,
 "nbformat_minor": 2
}
