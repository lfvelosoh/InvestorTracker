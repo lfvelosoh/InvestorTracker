{
 "cells": [
  {
   "cell_type": "code",
   "execution_count": 7,
   "metadata": {},
   "outputs": [],
   "source": [
    "import yfinance as yf\n",
    "import pandas as pd"
   ]
  },
  {
   "cell_type": "code",
   "execution_count": 8,
   "metadata": {},
   "outputs": [
    {
     "name": "stdout",
     "output_type": "stream",
     "text": [
      "[*********************100%%**********************]  28 of 28 completed\n",
      "Cotação atual salva com sucesso em ./resultados/cotacao_atual.csv\n"
     ]
    }
   ],
   "source": [
    "df = pd.read_csv('./resultados/codigos.csv') # read the csv file\n",
    "\n",
    "codigo_col = df['codigo'] #pegar a coluna de códigos\n",
    "\n",
    "codigo_col = codigo_col.apply(lambda x: x + '.SA') #aplica a extensão .SA para realizar a pesquisa no Yahoo Finance\n",
    "\n",
    "# função para pegar os preços atuais\n",
    "def get_current_prices(tickers):\n",
    "    data = yf.download(tickers, period='1d', group_by='ticker')\n",
    "    prices = pd.DataFrame()\n",
    "    for ticker in tickers:\n",
    "        prices[ticker] = data[ticker]['Close']\n",
    "    prices.columns = prices.columns.str.replace('.SA', '') # remove .SA from column names\n",
    "    return prices.to_dict()\n",
    "\n",
    "# transforma a coluna de códigos em uma lista\n",
    "tickers = codigo_col.tolist()\n",
    "# pega os preços atuais\n",
    "prices = get_current_prices(tickers)\n",
    "\n",
    "# transforma o dicionário aninhado em um dicionário desaninhado\n",
    "prices = {chave_externa: valor_float for chave_externa, dicionario_interno in prices.items() for valor_float in dicionario_interno.values()}\n",
    "\n",
    "# transforma o dicionário em um dataframe\n",
    "prices = pd.DataFrame.from_dict(prices, orient='index', columns=['preco_atual'])\n",
    "\n",
    "# reseta o index\n",
    "prices = prices.reset_index()\n",
    "# renomeia a coluna index para Codigo\n",
    "prices.rename(columns={'index': 'codigo'}, inplace=True)\n",
    "prices['preco_atual'] = prices['preco_atual'].round(2)\n",
    "# salva o dataframe em um arquivo csv\n",
    "prices.to_csv('./resultados/cotacao_atual.csv', index=False)\n",
    "\n",
    "print('Cotação atual salva com sucesso em ./resultados/cotacao_atual.csv')"
   ]
  }
 ],
 "metadata": {
  "kernelspec": {
   "display_name": ".venv",
   "language": "python",
   "name": "python3"
  },
  "language_info": {
   "codemirror_mode": {
    "name": "ipython",
    "version": 3
   },
   "file_extension": ".py",
   "mimetype": "text/x-python",
   "name": "python",
   "nbconvert_exporter": "python",
   "pygments_lexer": "ipython3",
   "version": "3.12.0"
  }
 },
 "nbformat": 4,
 "nbformat_minor": 2
}
