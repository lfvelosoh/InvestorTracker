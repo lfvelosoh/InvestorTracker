{
 "cells": [
  {
   "cell_type": "markdown",
   "metadata": {},
   "source": [
    "## Imports & Defs"
   ]
  },
  {
   "cell_type": "code",
   "execution_count": 1,
   "metadata": {},
   "outputs": [],
   "source": [
    "import os"
   ]
  },
  {
   "cell_type": "code",
   "execution_count": 2,
   "metadata": {},
   "outputs": [],
   "source": [
    "pastas = [\"relatorios_mensais\", \"relatorios_anuais\", \"resultados\"] #define nome das pastas a serem criadas\n",
    "\n",
    "#se pastas não existirem, criar\n",
    "for pasta in pastas:\n",
    "    if not os.path.exists(pasta):\n",
    "        os.makedirs(pasta)\n",
    "        print(\"Pasta(s) criada(s) com sucesso!\")\n"
   ]
  },
  {
   "cell_type": "code",
   "execution_count": 3,
   "metadata": {},
   "outputs": [],
   "source": [
    "#dicionário para converter nome do mês para número\n",
    "meses = {\n",
    "    \"janeiro\": \"01\",\n",
    "    \"fevereiro\": \"02\",\n",
    "    \"marco\": \"03\",\n",
    "    \"abril\": \"04\",\n",
    "    \"maio\": \"05\",\n",
    "    \"junho\": \"06\",\n",
    "    \"julho\": \"07\",\n",
    "    \"agosto\": \"08\",\n",
    "    \"setembro\": \"09\",\n",
    "    \"outubro\": \"10\",\n",
    "    \"novembro\": \"11\",\n",
    "    \"dezembro\": \"12\"\n",
    "}"
   ]
  },
  {
   "cell_type": "code",
   "execution_count": 4,
   "metadata": {},
   "outputs": [],
   "source": [
    "#path dos arquivos xlsx\n",
    "pasta = \"./relatorios_mensais/\"\n",
    "\n",
    "#for para renomear arquivos\n",
    "for arquivo in os.listdir(pasta):\n",
    "    if arquivo.endswith(\".xlsx\"):\n",
    "        for mes in meses:\n",
    "            if mes in arquivo:\n",
    "                novo_nome = arquivo.replace(\"relatorio-consolidado-mensal-\", \"\")\n",
    "                novo_nome = novo_nome.replace(mes, str(meses[mes]))\n",
    "                os.rename(os.path.join(pasta, arquivo), os.path.join(pasta, novo_nome))\n",
    "                break"
   ]
  },
  {
   "cell_type": "code",
   "execution_count": 5,
   "metadata": {},
   "outputs": [],
   "source": [
    "#path dos arquivos xlsx\n",
    "pasta = \"./relatorios_anuais/\"\n",
    "\n",
    "#for para renomear arquivos\n",
    "for arquivo in os.listdir(pasta):\n",
    "    if arquivo.endswith(\".xlsx\"):\n",
    "        novo_nome = arquivo.replace(\"relatorio-consolidado-anual-\", \"\")\n",
    "        os.rename(os.path.join(pasta, arquivo), os.path.join(pasta, novo_nome))"
   ]
  },
  {
   "cell_type": "code",
   "execution_count": null,
   "metadata": {},
   "outputs": [],
   "source": [
    "print(\"Arquivos Renomeados com sucesso!\")"
   ]
  }
 ],
 "metadata": {
  "kernelspec": {
   "display_name": ".venv",
   "language": "python",
   "name": "python3"
  },
  "language_info": {
   "codemirror_mode": {
    "name": "ipython",
    "version": 3
   },
   "file_extension": ".py",
   "mimetype": "text/x-python",
   "name": "python",
   "nbconvert_exporter": "python",
   "pygments_lexer": "ipython3",
   "version": "3.12.0"
  }
 },
 "nbformat": 4,
 "nbformat_minor": 2
}
