{
 "cells": [
  {
   "cell_type": "markdown",
   "metadata": {},
   "source": [
    "## Imports & Defs"
   ]
  },
  {
   "cell_type": "code",
   "execution_count": 42,
   "metadata": {},
   "outputs": [],
   "source": [
    "import pandas as pd\n",
    "from unidecode import unidecode\n",
    "import os"
   ]
  },
  {
   "cell_type": "code",
   "execution_count": 43,
   "metadata": {},
   "outputs": [],
   "source": [
    "#path dos arquivos xlsx\n",
    "pasta = \"relatorios_mensais\""
   ]
  },
  {
   "cell_type": "code",
   "execution_count": 44,
   "metadata": {},
   "outputs": [
    {
     "name": "stdout",
     "output_type": "stream",
     "text": [
      "Carteira salvo com sucesso em ./resultados/carteira.csv\n",
      "codigos salvo com sucesso em ./resultados/codigos.csv\n"
     ]
    },
    {
     "name": "stderr",
     "output_type": "stream",
     "text": [
      "c:\\Users\\lfvel\\OneDrive\\Projects\\IRRF_B3\\.venv\\Lib\\site-packages\\openpyxl\\styles\\stylesheet.py:226: UserWarning: Workbook contains no default style, apply openpyxl's default\n",
      "  warn(\"Workbook contains no default style, apply openpyxl's default\")\n",
      "C:\\Users\\lfvel\\AppData\\Local\\Temp\\ipykernel_21752\\2889366517.py:67: FutureWarning: The default of observed=False is deprecated and will be changed to True in a future version of pandas. Pass observed=False to retain current behavior or observed=True to adopt the future default and silence this warning.\n",
      "  carteira_agg = carteira.groupby(['codigo'])['quantidade'].sum()\n"
     ]
    }
   ],
   "source": [
    "#pega somente o ultimo arquivo para calculo da carteira\n",
    "arquivos = os.listdir(pasta)# lista todos os arquivos na pasta\n",
    "arquivos_xlsx = [arquivo for arquivo in arquivos if arquivo.endswith('.xlsx')]# filtra apenas os arquivos com extensão xlsx\n",
    "arquivos_xlsx.sort(reverse=True)# ordena os arquivos em ordem alfabética inversa\n",
    "ultimo_arquivo = arquivos_xlsx[0]# seleciona o primeiro arquivo da lista resultante\n",
    "\n",
    "#path do arquivo\n",
    "arquivo = pd.ExcelFile(f'./'+pasta+'/'+ultimo_arquivo)\n",
    "\n",
    "# create a dataframe with the name of each column\n",
    "sheet_names = arquivo.sheet_names\n",
    "df_sheet_names = pd.DataFrame({'NOME_ATUAL': sheet_names})\n",
    "\n",
    "# replace accented letters with unaccented letters, remove spaces and replace with underscore\n",
    "df_sheet_names['NOME_FINAL'] = df_sheet_names['NOME_ATUAL'].apply(lambda x: unidecode(x))\n",
    "df_sheet_names['NOME_FINAL'] = df_sheet_names['NOME_FINAL'].str.replace('Posicao - ', '')\n",
    "df_sheet_names['NOME_FINAL'] = df_sheet_names['NOME_FINAL'].str.replace(' ', '_')\n",
    "\n",
    "# create a dictionary with the name of each column in each sheet\n",
    "dfs = {}\n",
    "for sheet_name in sheet_names:\n",
    "    if sheet_name in ['Posição - Ações', 'Posição - BDR', 'Posição - ETF', 'Posição - Fundos']:\n",
    "        df = pd.read_excel(arquivo, sheet_name, dtype={\n",
    "            'CNPJ do Fundo': str, \n",
    "            'CNPJ da Empresa': str,\n",
    "            'Produto': str,\n",
    "            'Instituicao': str,\n",
    "            'Preco de Fechamento': float,\n",
    "            'Administrador': str,})\n",
    "        new_key = df_sheet_names.loc[df_sheet_names['NOME_ATUAL'] == sheet_name, 'NOME_FINAL'].iloc[0]\n",
    "        df['Classe'] = new_key\n",
    "        dfs[new_key] = df.dropna()\n",
    "\n",
    "carteira = pd.concat(dfs.values(), ignore_index=True)\n",
    "\n",
    "# remove accents from column names\n",
    "carteira.columns = [unidecode(col) for col in carteira.columns]\n",
    "carteira.columns = [col.lower().replace(' ', '_') for col in carteira.columns]\n",
    "\n",
    "# merge columns cnpj do Fundo and cnpj da Empresa, and Escriturador and administrador\n",
    "carteira['cnpj'] = carteira['cnpj_do_fundo'].fillna(carteira['cnpj_da_empresa'])\n",
    "carteira['administrador'] = carteira['administrador'].fillna(carteira['escriturador'])\n",
    "\n",
    "# rename columns\n",
    "carteira = carteira.rename(columns={'codigo_de_negociacao': 'codigo'})\n",
    "carteira['classe'] = carteira['classe'].str.replace('Fundos', 'FII')\n",
    "# remove columns\n",
    "carteira = carteira.drop(['cnpj_da_empresa', 'cnpj_do_fundo', 'conta', 'codigo_isin_/_distribuicao', 'quantidade_disponivel', 'quantidade_indisponivel', 'motivo', 'escriturador', 'valor_atualizado'], axis=1)\n",
    "\n",
    "# fill NaN values\n",
    "carteira['cnpj'] = carteira['cnpj'].fillna(\"-\")\n",
    "carteira['administrador'] = carteira['administrador'].fillna(\"-\")\n",
    "\n",
    "# set column types\n",
    "categorical_columns = ['codigo', 'classe', 'instituicao']\n",
    "float_columns = ['preco_de_fechamento']\n",
    "\n",
    "carteira[categorical_columns] = carteira[categorical_columns].astype('category')\n",
    "carteira[float_columns] = carteira[float_columns].astype('float')\n",
    "carteira['quantidade'] = carteira['quantidade'].astype('int')\n",
    "\n",
    "# clean product name\n",
    "carteira['produto'] = carteira['produto'].str.split('-').str[1]\n",
    "carteira['produto'] = carteira['produto'].str.strip()\n",
    "\n",
    "#cria carteira_agregada somando as quantidades\n",
    "carteira_agg = carteira.groupby(['codigo'])['quantidade'].sum()\n",
    "\n",
    "#faz o merge da carteira com a carteira_agregada\n",
    "carteira = pd.merge(carteira, carteira_agg, on='codigo', how='left')\n",
    "carteira.drop(['quantidade_x'], axis=1, inplace=True)\n",
    "carteira.drop_duplicates(inplace=True)\n",
    "carteira = carteira.rename(columns={'quantidade_y': 'quantidade'})\n",
    "\n",
    "# reorder columns\n",
    "carteira = carteira[['codigo', 'produto', 'classe', 'tipo', 'administrador', 'cnpj', 'instituicao', 'quantidade', 'preco_de_fechamento']]\n",
    "\n",
    "#calcula o total\n",
    "carteira['total'] = carteira['quantidade'] * carteira['preco_de_fechamento']\n",
    "carteira['total'] = carteira['total'].round(2)\n",
    "carteira = carteira.reset_index(drop=True)\n",
    "\n",
    "#cria coluna com o cnpj formatado\n",
    "carteira['cnpj'] = carteira['cnpj'].apply(lambda x: '{}.{}.{}/{}-{}'.format(x[:2], x[2:5], x[5:8], x[8:12], x[12:]) if x != '-' else '-')\n",
    "\n",
    "codigos = carteira[['codigo']].copy()\n",
    "\n",
    "\n",
    "#salva o arquivo\n",
    "carteira.to_csv('./resultados/carteira.csv', index=False)\n",
    "codigos.to_csv('./resultados/codigos.csv', index=False)\n",
    "\n",
    "print('Carteira salvo com sucesso em ./resultados/carteira.csv')\n",
    "print('codigos salvo com sucesso em ./resultados/codigos.csv')"
   ]
  }
 ],
 "metadata": {
  "kernelspec": {
   "display_name": ".venv",
   "language": "python",
   "name": "python3"
  },
  "language_info": {
   "codemirror_mode": {
    "name": "ipython",
    "version": 3
   },
   "file_extension": ".py",
   "mimetype": "text/x-python",
   "name": "python",
   "nbconvert_exporter": "python",
   "pygments_lexer": "ipython3",
   "version": "3.12.0"
  }
 },
 "nbformat": 4,
 "nbformat_minor": 2
}
